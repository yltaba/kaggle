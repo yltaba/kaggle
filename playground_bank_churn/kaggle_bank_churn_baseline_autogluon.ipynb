{
 "cells": [
  {
   "cell_type": "code",
   "execution_count": 1,
   "metadata": {},
   "outputs": [],
   "source": [
    "import pandas as pd\n",
    "from autogluon.tabular import TabularDataset, TabularPredictor"
   ]
  },
  {
   "cell_type": "code",
   "execution_count": 2,
   "metadata": {},
   "outputs": [],
   "source": [
    "train = pd.read_csv('input/train.csv')\n",
    "\n",
    "train['Gender'] = train['Gender'].map({'Female':1, 'Male':0})\n",
    "train = train.drop('id', axis=1)"
   ]
  },
  {
   "cell_type": "markdown",
   "metadata": {},
   "source": [
    "# AutoML"
   ]
  },
  {
   "cell_type": "code",
   "execution_count": null,
   "metadata": {},
   "outputs": [],
   "source": [
    "train_tab = TabularDataset(train)\n",
    "\n",
    "predictor = (\n",
    "    TabularPredictor(label='Exited',\n",
    "                     problem_type='binary',\n",
    "                     eval_metric='roc_auc',\n",
    "                     verbosity=0)\n",
    "    .fit(train_tab, presets='best_quality')\n",
    ")\n",
    "\n",
    "predictor.leaderboard()"
   ]
  },
  {
   "cell_type": "markdown",
   "metadata": {},
   "source": [
    "# Submission"
   ]
  },
  {
   "cell_type": "code",
   "execution_count": 23,
   "metadata": {},
   "outputs": [],
   "source": [
    "test_df = pd.read_csv('input/test.csv')\n",
    "test_df['Gender'] = test_df['Gender'].map({'Female':1, 'Male':0})\n",
    "test_data = TabularDataset(test_df)\n",
    "y_pred = predictor.predict_proba(test_data)[1]\n",
    "\n",
    "sub_sample = pd.read_csv('input/sample_submission.csv')\n",
    "sub_sample['Exited'] = y_pred"
   ]
  },
  {
   "cell_type": "code",
   "execution_count": 31,
   "metadata": {},
   "outputs": [],
   "source": [
    "sub_sample.to_csv('submission1.csv', index=False)"
   ]
  }
 ],
 "metadata": {
  "kernelspec": {
   "display_name": "base",
   "language": "python",
   "name": "python3"
  },
  "language_info": {
   "codemirror_mode": {
    "name": "ipython",
    "version": 3
   },
   "file_extension": ".py",
   "mimetype": "text/x-python",
   "name": "python",
   "nbconvert_exporter": "python",
   "pygments_lexer": "ipython3",
   "version": "3.10.13"
  }
 },
 "nbformat": 4,
 "nbformat_minor": 2
}
